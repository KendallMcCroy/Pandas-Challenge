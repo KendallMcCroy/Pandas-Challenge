{
 "cells": [
  {
   "cell_type": "code",
   "execution_count": 1,
   "id": "c0cad63c",
   "metadata": {},
   "outputs": [],
   "source": [
    "import pandas as pd\n",
    "import numpy as np"
   ]
  },
  {
   "cell_type": "code",
   "execution_count": 2,
   "id": "b59f8459",
   "metadata": {},
   "outputs": [],
   "source": [
    "# File to Load\n",
    "purchase_file = \"purchase_data.csv\""
   ]
  },
  {
   "cell_type": "code",
   "execution_count": 3,
   "id": "0365ef46",
   "metadata": {
    "scrolled": true
   },
   "outputs": [
    {
     "data": {
      "text/html": [
       "<div>\n",
       "<style scoped>\n",
       "    .dataframe tbody tr th:only-of-type {\n",
       "        vertical-align: middle;\n",
       "    }\n",
       "\n",
       "    .dataframe tbody tr th {\n",
       "        vertical-align: top;\n",
       "    }\n",
       "\n",
       "    .dataframe thead th {\n",
       "        text-align: right;\n",
       "    }\n",
       "</style>\n",
       "<table border=\"1\" class=\"dataframe\">\n",
       "  <thead>\n",
       "    <tr style=\"text-align: right;\">\n",
       "      <th></th>\n",
       "      <th>Purchase ID</th>\n",
       "      <th>SN</th>\n",
       "      <th>Age</th>\n",
       "      <th>Gender</th>\n",
       "      <th>Item ID</th>\n",
       "      <th>Item Name</th>\n",
       "      <th>Price</th>\n",
       "    </tr>\n",
       "  </thead>\n",
       "  <tbody>\n",
       "    <tr>\n",
       "      <th>0</th>\n",
       "      <td>0</td>\n",
       "      <td>Lisim78</td>\n",
       "      <td>20</td>\n",
       "      <td>Male</td>\n",
       "      <td>108</td>\n",
       "      <td>Extraction, Quickblade Of Trembling Hands</td>\n",
       "      <td>3.53</td>\n",
       "    </tr>\n",
       "    <tr>\n",
       "      <th>1</th>\n",
       "      <td>1</td>\n",
       "      <td>Lisovynya38</td>\n",
       "      <td>40</td>\n",
       "      <td>Male</td>\n",
       "      <td>143</td>\n",
       "      <td>Frenzied Scimitar</td>\n",
       "      <td>1.56</td>\n",
       "    </tr>\n",
       "    <tr>\n",
       "      <th>2</th>\n",
       "      <td>2</td>\n",
       "      <td>Ithergue48</td>\n",
       "      <td>24</td>\n",
       "      <td>Male</td>\n",
       "      <td>92</td>\n",
       "      <td>Final Critic</td>\n",
       "      <td>4.88</td>\n",
       "    </tr>\n",
       "    <tr>\n",
       "      <th>3</th>\n",
       "      <td>3</td>\n",
       "      <td>Chamassasya86</td>\n",
       "      <td>24</td>\n",
       "      <td>Male</td>\n",
       "      <td>100</td>\n",
       "      <td>Blindscythe</td>\n",
       "      <td>3.27</td>\n",
       "    </tr>\n",
       "    <tr>\n",
       "      <th>4</th>\n",
       "      <td>4</td>\n",
       "      <td>Iskosia90</td>\n",
       "      <td>23</td>\n",
       "      <td>Male</td>\n",
       "      <td>131</td>\n",
       "      <td>Fury</td>\n",
       "      <td>1.44</td>\n",
       "    </tr>\n",
       "  </tbody>\n",
       "</table>\n",
       "</div>"
      ],
      "text/plain": [
       "   Purchase ID             SN  Age Gender  Item ID  \\\n",
       "0            0        Lisim78   20   Male      108   \n",
       "1            1    Lisovynya38   40   Male      143   \n",
       "2            2     Ithergue48   24   Male       92   \n",
       "3            3  Chamassasya86   24   Male      100   \n",
       "4            4      Iskosia90   23   Male      131   \n",
       "\n",
       "                                   Item Name  Price  \n",
       "0  Extraction, Quickblade Of Trembling Hands   3.53  \n",
       "1                          Frenzied Scimitar   1.56  \n",
       "2                               Final Critic   4.88  \n",
       "3                                Blindscythe   3.27  \n",
       "4                                       Fury   1.44  "
      ]
     },
     "execution_count": 3,
     "metadata": {},
     "output_type": "execute_result"
    }
   ],
   "source": [
    "# Read Purchasing File and store into Pandas data frame\n",
    "purchase_data = pd.read_csv(purchase_file)\n",
    "purchase_data.head()"
   ]
  },
  {
   "cell_type": "code",
   "execution_count": null,
   "id": "8a56045e",
   "metadata": {},
   "outputs": [],
   "source": [
    "purchase_data.describe()"
   ]
  },
  {
   "cell_type": "code",
   "execution_count": null,
   "id": "91a286ae",
   "metadata": {},
   "outputs": [],
   "source": [
    "# Calculate the number of unique names in Date Frame for get Total Players\n",
    "sn_count = len(purchase_data[\"SN\"].unique())\n",
    "print(sn_count)"
   ]
  },
  {
   "cell_type": "code",
   "execution_count": null,
   "id": "0e4ca1f4",
   "metadata": {},
   "outputs": [],
   "source": [
    "# Create a date frame with total players\n",
    "player_count_df = pd.DataFrame({\"Total Players\":[sn_count]})\n",
    "player_count_df"
   ]
  },
  {
   "cell_type": "code",
   "execution_count": null,
   "id": "00598171",
   "metadata": {},
   "outputs": [],
   "source": [
    "# calculations to obtain number of unique items, average price, number of purchases and total revenue\n",
    "# calculate the number of unique items\n",
    "unique_items = len(purchase_data[\"Item ID\"].unique())\n",
    "print(unique_items)"
   ]
  },
  {
   "cell_type": "code",
   "execution_count": null,
   "id": "5be02fe0",
   "metadata": {},
   "outputs": [],
   "source": [
    "# calulate average price\n",
    "average_price = purchase_data[\"Price\"].mean()\n",
    "average_price"
   ]
  },
  {
   "cell_type": "code",
   "execution_count": null,
   "id": "133e82a3",
   "metadata": {},
   "outputs": [],
   "source": [
    "# Calculate the number of unique names in Date Frame for get Total Players\n",
    "number_of_purchases = len(purchase_data[\"Purchase ID\"].unique())\n",
    "number_of_purchases"
   ]
  },
  {
   "cell_type": "code",
   "execution_count": null,
   "id": "423d3e9b",
   "metadata": {},
   "outputs": [],
   "source": [
    "# Calculate Total Revenue\n",
    "total_revenue = purchase_data[\"Price\"].sum()\n",
    "total_revenue"
   ]
  },
  {
   "cell_type": "code",
   "execution_count": null,
   "id": "8b47e3c3",
   "metadata": {},
   "outputs": [],
   "source": [
    "# Create a summary data frame to hold the results\n",
    "summary_df_one = pd.DataFrame({\"Number of Unique Items\":[unique_items],\n",
    "                              \"Average Price\": average_price,\n",
    "                               \"Number of Purchases\": number_of_purchases,\n",
    "                               \"Total Revenue\": total_revenue})\n",
    "\n",
    "summary_df_one"
   ]
  },
  {
   "cell_type": "code",
   "execution_count": null,
   "id": "2c6383ff",
   "metadata": {},
   "outputs": [],
   "source": [
    "# Group df by Gender\n",
    "gender = purchase_data.groupby(\"Gender\")\n",
    "\n",
    "# Count \"SN\" by gender to get total\n",
    "gender_count = gender.nunique()[\"SN\"]\n",
    "gender_count\n",
    "\n",
    "percent_of_players = gender_count / sn_count * 100\n",
    "\n",
    "# Create data frame\n",
    "gender_demo = pd.DataFrame({\"Total Count\": gender_count, \"Percentage of Players\": percent_of_players})\n",
    "gender_demo.sort_values([\"Total Count\"], ascending = False).style.format({\"Percentage of Players\":\"{:.2f}\"})"
   ]
  },
  {
   "cell_type": "code",
   "execution_count": null,
   "id": "28be8a71",
   "metadata": {},
   "outputs": [],
   "source": []
  }
 ],
 "metadata": {
  "kernelspec": {
   "display_name": "Python 3",
   "language": "python",
   "name": "python3"
  },
  "language_info": {
   "codemirror_mode": {
    "name": "ipython",
    "version": 3
   },
   "file_extension": ".py",
   "mimetype": "text/x-python",
   "name": "python",
   "nbconvert_exporter": "python",
   "pygments_lexer": "ipython3",
   "version": "3.8.8"
  }
 },
 "nbformat": 4,
 "nbformat_minor": 5
}
