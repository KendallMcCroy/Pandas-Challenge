{
 "cells": [
  {
   "cell_type": "code",
   "execution_count": 1,
   "id": "c0cad63c",
   "metadata": {},
   "outputs": [],
   "source": [
    "import pandas as pd\n",
    "import numpy as np"
   ]
  },
  {
   "cell_type": "code",
   "execution_count": 2,
   "id": "b59f8459",
   "metadata": {},
   "outputs": [],
   "source": [
    "# File to Load\n",
    "purchase_file = \"purchase_data.csv\""
   ]
  },
  {
   "cell_type": "code",
   "execution_count": 3,
   "id": "0365ef46",
   "metadata": {
    "scrolled": true
   },
   "outputs": [
    {
     "data": {
      "text/html": [
       "<div>\n",
       "<style scoped>\n",
       "    .dataframe tbody tr th:only-of-type {\n",
       "        vertical-align: middle;\n",
       "    }\n",
       "\n",
       "    .dataframe tbody tr th {\n",
       "        vertical-align: top;\n",
       "    }\n",
       "\n",
       "    .dataframe thead th {\n",
       "        text-align: right;\n",
       "    }\n",
       "</style>\n",
       "<table border=\"1\" class=\"dataframe\">\n",
       "  <thead>\n",
       "    <tr style=\"text-align: right;\">\n",
       "      <th></th>\n",
       "      <th>Purchase ID</th>\n",
       "      <th>SN</th>\n",
       "      <th>Age</th>\n",
       "      <th>Gender</th>\n",
       "      <th>Item ID</th>\n",
       "      <th>Item Name</th>\n",
       "      <th>Price</th>\n",
       "    </tr>\n",
       "  </thead>\n",
       "  <tbody>\n",
       "    <tr>\n",
       "      <th>0</th>\n",
       "      <td>0</td>\n",
       "      <td>Lisim78</td>\n",
       "      <td>20</td>\n",
       "      <td>Male</td>\n",
       "      <td>108</td>\n",
       "      <td>Extraction, Quickblade Of Trembling Hands</td>\n",
       "      <td>3.53</td>\n",
       "    </tr>\n",
       "    <tr>\n",
       "      <th>1</th>\n",
       "      <td>1</td>\n",
       "      <td>Lisovynya38</td>\n",
       "      <td>40</td>\n",
       "      <td>Male</td>\n",
       "      <td>143</td>\n",
       "      <td>Frenzied Scimitar</td>\n",
       "      <td>1.56</td>\n",
       "    </tr>\n",
       "    <tr>\n",
       "      <th>2</th>\n",
       "      <td>2</td>\n",
       "      <td>Ithergue48</td>\n",
       "      <td>24</td>\n",
       "      <td>Male</td>\n",
       "      <td>92</td>\n",
       "      <td>Final Critic</td>\n",
       "      <td>4.88</td>\n",
       "    </tr>\n",
       "    <tr>\n",
       "      <th>3</th>\n",
       "      <td>3</td>\n",
       "      <td>Chamassasya86</td>\n",
       "      <td>24</td>\n",
       "      <td>Male</td>\n",
       "      <td>100</td>\n",
       "      <td>Blindscythe</td>\n",
       "      <td>3.27</td>\n",
       "    </tr>\n",
       "    <tr>\n",
       "      <th>4</th>\n",
       "      <td>4</td>\n",
       "      <td>Iskosia90</td>\n",
       "      <td>23</td>\n",
       "      <td>Male</td>\n",
       "      <td>131</td>\n",
       "      <td>Fury</td>\n",
       "      <td>1.44</td>\n",
       "    </tr>\n",
       "  </tbody>\n",
       "</table>\n",
       "</div>"
      ],
      "text/plain": [
       "   Purchase ID             SN  Age Gender  Item ID  \\\n",
       "0            0        Lisim78   20   Male      108   \n",
       "1            1    Lisovynya38   40   Male      143   \n",
       "2            2     Ithergue48   24   Male       92   \n",
       "3            3  Chamassasya86   24   Male      100   \n",
       "4            4      Iskosia90   23   Male      131   \n",
       "\n",
       "                                   Item Name  Price  \n",
       "0  Extraction, Quickblade Of Trembling Hands   3.53  \n",
       "1                          Frenzied Scimitar   1.56  \n",
       "2                               Final Critic   4.88  \n",
       "3                                Blindscythe   3.27  \n",
       "4                                       Fury   1.44  "
      ]
     },
     "execution_count": 3,
     "metadata": {},
     "output_type": "execute_result"
    }
   ],
   "source": [
    "# Read Purchasing File and store into Pandas data frame\n",
    "purchase_data = pd.read_csv(purchase_file)\n",
    "purchase_data.head()"
   ]
  },
  {
   "cell_type": "code",
   "execution_count": 4,
   "id": "8a56045e",
   "metadata": {
    "scrolled": true
   },
   "outputs": [
    {
     "data": {
      "text/html": [
       "<div>\n",
       "<style scoped>\n",
       "    .dataframe tbody tr th:only-of-type {\n",
       "        vertical-align: middle;\n",
       "    }\n",
       "\n",
       "    .dataframe tbody tr th {\n",
       "        vertical-align: top;\n",
       "    }\n",
       "\n",
       "    .dataframe thead th {\n",
       "        text-align: right;\n",
       "    }\n",
       "</style>\n",
       "<table border=\"1\" class=\"dataframe\">\n",
       "  <thead>\n",
       "    <tr style=\"text-align: right;\">\n",
       "      <th></th>\n",
       "      <th>Purchase ID</th>\n",
       "      <th>Age</th>\n",
       "      <th>Item ID</th>\n",
       "      <th>Price</th>\n",
       "    </tr>\n",
       "  </thead>\n",
       "  <tbody>\n",
       "    <tr>\n",
       "      <th>count</th>\n",
       "      <td>780.000000</td>\n",
       "      <td>780.000000</td>\n",
       "      <td>780.000000</td>\n",
       "      <td>780.000000</td>\n",
       "    </tr>\n",
       "    <tr>\n",
       "      <th>mean</th>\n",
       "      <td>389.500000</td>\n",
       "      <td>22.714103</td>\n",
       "      <td>91.755128</td>\n",
       "      <td>3.050987</td>\n",
       "    </tr>\n",
       "    <tr>\n",
       "      <th>std</th>\n",
       "      <td>225.310896</td>\n",
       "      <td>6.659444</td>\n",
       "      <td>52.697702</td>\n",
       "      <td>1.169549</td>\n",
       "    </tr>\n",
       "    <tr>\n",
       "      <th>min</th>\n",
       "      <td>0.000000</td>\n",
       "      <td>7.000000</td>\n",
       "      <td>0.000000</td>\n",
       "      <td>1.000000</td>\n",
       "    </tr>\n",
       "    <tr>\n",
       "      <th>25%</th>\n",
       "      <td>194.750000</td>\n",
       "      <td>20.000000</td>\n",
       "      <td>47.750000</td>\n",
       "      <td>1.980000</td>\n",
       "    </tr>\n",
       "    <tr>\n",
       "      <th>50%</th>\n",
       "      <td>389.500000</td>\n",
       "      <td>22.000000</td>\n",
       "      <td>92.000000</td>\n",
       "      <td>3.150000</td>\n",
       "    </tr>\n",
       "    <tr>\n",
       "      <th>75%</th>\n",
       "      <td>584.250000</td>\n",
       "      <td>25.000000</td>\n",
       "      <td>138.000000</td>\n",
       "      <td>4.080000</td>\n",
       "    </tr>\n",
       "    <tr>\n",
       "      <th>max</th>\n",
       "      <td>779.000000</td>\n",
       "      <td>45.000000</td>\n",
       "      <td>183.000000</td>\n",
       "      <td>4.990000</td>\n",
       "    </tr>\n",
       "  </tbody>\n",
       "</table>\n",
       "</div>"
      ],
      "text/plain": [
       "       Purchase ID         Age     Item ID       Price\n",
       "count   780.000000  780.000000  780.000000  780.000000\n",
       "mean    389.500000   22.714103   91.755128    3.050987\n",
       "std     225.310896    6.659444   52.697702    1.169549\n",
       "min       0.000000    7.000000    0.000000    1.000000\n",
       "25%     194.750000   20.000000   47.750000    1.980000\n",
       "50%     389.500000   22.000000   92.000000    3.150000\n",
       "75%     584.250000   25.000000  138.000000    4.080000\n",
       "max     779.000000   45.000000  183.000000    4.990000"
      ]
     },
     "execution_count": 4,
     "metadata": {},
     "output_type": "execute_result"
    }
   ],
   "source": [
    "purchase_data.describe()"
   ]
  },
  {
   "cell_type": "code",
   "execution_count": 5,
   "id": "91a286ae",
   "metadata": {},
   "outputs": [
    {
     "name": "stdout",
     "output_type": "stream",
     "text": [
      "576\n"
     ]
    }
   ],
   "source": [
    "# Calculate the number of unique names in Date Frame for get Total Players\n",
    "total_players = len(purchase_data[\"SN\"].unique())\n",
    "print(total_players)"
   ]
  },
  {
   "cell_type": "code",
   "execution_count": 6,
   "id": "0e4ca1f4",
   "metadata": {},
   "outputs": [
    {
     "data": {
      "text/html": [
       "<div>\n",
       "<style scoped>\n",
       "    .dataframe tbody tr th:only-of-type {\n",
       "        vertical-align: middle;\n",
       "    }\n",
       "\n",
       "    .dataframe tbody tr th {\n",
       "        vertical-align: top;\n",
       "    }\n",
       "\n",
       "    .dataframe thead th {\n",
       "        text-align: right;\n",
       "    }\n",
       "</style>\n",
       "<table border=\"1\" class=\"dataframe\">\n",
       "  <thead>\n",
       "    <tr style=\"text-align: right;\">\n",
       "      <th></th>\n",
       "      <th>Total Players</th>\n",
       "    </tr>\n",
       "  </thead>\n",
       "  <tbody>\n",
       "    <tr>\n",
       "      <th>0</th>\n",
       "      <td>576</td>\n",
       "    </tr>\n",
       "  </tbody>\n",
       "</table>\n",
       "</div>"
      ],
      "text/plain": [
       "   Total Players\n",
       "0            576"
      ]
     },
     "execution_count": 6,
     "metadata": {},
     "output_type": "execute_result"
    }
   ],
   "source": [
    "# Create a date frame with total players\n",
    "player_count_df = pd.DataFrame({\"Total Players\":[total_players]})\n",
    "player_count_df"
   ]
  },
  {
   "cell_type": "code",
   "execution_count": 7,
   "id": "00598171",
   "metadata": {},
   "outputs": [
    {
     "name": "stdout",
     "output_type": "stream",
     "text": [
      "179\n"
     ]
    }
   ],
   "source": [
    "# calculations to obtain number of unique items, average price, number of purchases and total revenue\n",
    "# calculate the number of unique items\n",
    "unique_items = len(purchase_data[\"Item ID\"].unique())\n",
    "print(unique_items)"
   ]
  },
  {
   "cell_type": "code",
   "execution_count": 8,
   "id": "5be02fe0",
   "metadata": {},
   "outputs": [
    {
     "data": {
      "text/plain": [
       "3.050987179487176"
      ]
     },
     "execution_count": 8,
     "metadata": {},
     "output_type": "execute_result"
    }
   ],
   "source": [
    "# calulate average price\n",
    "average_price = purchase_data[\"Price\"].mean()\n",
    "average_price"
   ]
  },
  {
   "cell_type": "code",
   "execution_count": 9,
   "id": "133e82a3",
   "metadata": {},
   "outputs": [
    {
     "data": {
      "text/plain": [
       "780"
      ]
     },
     "execution_count": 9,
     "metadata": {},
     "output_type": "execute_result"
    }
   ],
   "source": [
    "# Calculate the number of unique names in Date Frame for get Total Players\n",
    "number_of_purchases = len(purchase_data[\"Purchase ID\"].unique())\n",
    "number_of_purchases"
   ]
  },
  {
   "cell_type": "code",
   "execution_count": 10,
   "id": "423d3e9b",
   "metadata": {},
   "outputs": [
    {
     "data": {
      "text/plain": [
       "2379.77"
      ]
     },
     "execution_count": 10,
     "metadata": {},
     "output_type": "execute_result"
    }
   ],
   "source": [
    "# Calculate Total Revenue\n",
    "total_revenue = purchase_data[\"Price\"].sum()\n",
    "total_revenue"
   ]
  },
  {
   "cell_type": "code",
   "execution_count": 11,
   "id": "8b47e3c3",
   "metadata": {},
   "outputs": [
    {
     "data": {
      "text/html": [
       "<style  type=\"text/css\" >\n",
       "</style><table id=\"T_f4d64_\" ><thead>    <tr>        <th class=\"blank level0\" ></th>        <th class=\"col_heading level0 col0\" >Number of Unique Items</th>        <th class=\"col_heading level0 col1\" >Average Price</th>        <th class=\"col_heading level0 col2\" >Number of Purchases</th>        <th class=\"col_heading level0 col3\" >Total Revenue</th>    </tr></thead><tbody>\n",
       "                <tr>\n",
       "                        <th id=\"T_f4d64_level0_row0\" class=\"row_heading level0 row0\" >0</th>\n",
       "                        <td id=\"T_f4d64_row0_col0\" class=\"data row0 col0\" >179</td>\n",
       "                        <td id=\"T_f4d64_row0_col1\" class=\"data row0 col1\" >$3.05</td>\n",
       "                        <td id=\"T_f4d64_row0_col2\" class=\"data row0 col2\" >780</td>\n",
       "                        <td id=\"T_f4d64_row0_col3\" class=\"data row0 col3\" >$2,379.77</td>\n",
       "            </tr>\n",
       "    </tbody></table>"
      ],
      "text/plain": [
       "<pandas.io.formats.style.Styler at 0x143b8c5d700>"
      ]
     },
     "execution_count": 11,
     "metadata": {},
     "output_type": "execute_result"
    }
   ],
   "source": [
    "# Create a summary data frame to hold the results\n",
    "summary_df_one = pd.DataFrame({\"Number of Unique Items\":[unique_items],\n",
    "                              \"Average Price\": average_price,\n",
    "                               \"Number of Purchases\": number_of_purchases,\n",
    "                               \"Total Revenue\": total_revenue})\n",
    "\n",
    "summary_df_one.style.format({\"Average Price\":\"${:,.2f}\", \n",
    "                      \"Total Revenue\":\"${:,.2f}\"})\n",
    "\n"
   ]
  },
  {
   "cell_type": "code",
   "execution_count": 12,
   "id": "2c6383ff",
   "metadata": {},
   "outputs": [
    {
     "data": {
      "text/html": [
       "<style  type=\"text/css\" >\n",
       "</style><table id=\"T_6c8b0_\" ><thead>    <tr>        <th class=\"blank level0\" ></th>        <th class=\"col_heading level0 col0\" >Total Count</th>        <th class=\"col_heading level0 col1\" >Percentage of Players</th>    </tr>    <tr>        <th class=\"index_name level0\" >Gender</th>        <th class=\"blank\" ></th>        <th class=\"blank\" ></th>    </tr></thead><tbody>\n",
       "                <tr>\n",
       "                        <th id=\"T_6c8b0_level0_row0\" class=\"row_heading level0 row0\" >Male</th>\n",
       "                        <td id=\"T_6c8b0_row0_col0\" class=\"data row0 col0\" >484</td>\n",
       "                        <td id=\"T_6c8b0_row0_col1\" class=\"data row0 col1\" >84.03</td>\n",
       "            </tr>\n",
       "            <tr>\n",
       "                        <th id=\"T_6c8b0_level0_row1\" class=\"row_heading level0 row1\" >Female</th>\n",
       "                        <td id=\"T_6c8b0_row1_col0\" class=\"data row1 col0\" >81</td>\n",
       "                        <td id=\"T_6c8b0_row1_col1\" class=\"data row1 col1\" >14.06</td>\n",
       "            </tr>\n",
       "            <tr>\n",
       "                        <th id=\"T_6c8b0_level0_row2\" class=\"row_heading level0 row2\" >Other / Non-Disclosed</th>\n",
       "                        <td id=\"T_6c8b0_row2_col0\" class=\"data row2 col0\" >11</td>\n",
       "                        <td id=\"T_6c8b0_row2_col1\" class=\"data row2 col1\" >1.91</td>\n",
       "            </tr>\n",
       "    </tbody></table>"
      ],
      "text/plain": [
       "<pandas.io.formats.style.Styler at 0x143badeec40>"
      ]
     },
     "execution_count": 12,
     "metadata": {},
     "output_type": "execute_result"
    }
   ],
   "source": [
    "# Group df by Gender\n",
    "gender = purchase_data.groupby(\"Gender\")\n",
    "\n",
    "# Count \"SN\" by gender to get total\n",
    "gender_count = gender.nunique()[\"SN\"]\n",
    "\n",
    "percent_of_players = gender_count / total_players * 100\n",
    "\n",
    "# Create data frame\n",
    "gender_df = pd.DataFrame({\"Total Count\": gender_count, \"Percentage of Players\": percent_of_players})\n",
    "gender_df.sort_values([\"Total Count\"], ascending = False).style.format({\"Percentage of Players\":\"{:.2f}\"})"
   ]
  },
  {
   "cell_type": "code",
   "execution_count": 27,
   "id": "28be8a71",
   "metadata": {},
   "outputs": [
    {
     "data": {
      "text/html": [
       "<style  type=\"text/css\" >\n",
       "</style><table id=\"T_06949_\" ><thead>    <tr>        <th class=\"blank level0\" ></th>        <th class=\"col_heading level0 col0\" >Purchase Count</th>        <th class=\"col_heading level0 col1\" >Average Purchase Price</th>        <th class=\"col_heading level0 col2\" >Average Purchase Value</th>        <th class=\"col_heading level0 col3\" >Avg Purchase Total per Person</th>    </tr>    <tr>        <th class=\"index_name level0\" >Gender</th>        <th class=\"blank\" ></th>        <th class=\"blank\" ></th>        <th class=\"blank\" ></th>        <th class=\"blank\" ></th>    </tr></thead><tbody>\n",
       "                <tr>\n",
       "                        <th id=\"T_06949_level0_row0\" class=\"row_heading level0 row0\" >Female</th>\n",
       "                        <td id=\"T_06949_row0_col0\" class=\"data row0 col0\" >113</td>\n",
       "                        <td id=\"T_06949_row0_col1\" class=\"data row0 col1\" >$3.20</td>\n",
       "                        <td id=\"T_06949_row0_col2\" class=\"data row0 col2\" >$361.94</td>\n",
       "                        <td id=\"T_06949_row0_col3\" class=\"data row0 col3\" >$4.47</td>\n",
       "            </tr>\n",
       "            <tr>\n",
       "                        <th id=\"T_06949_level0_row1\" class=\"row_heading level0 row1\" >Male</th>\n",
       "                        <td id=\"T_06949_row1_col0\" class=\"data row1 col0\" >652</td>\n",
       "                        <td id=\"T_06949_row1_col1\" class=\"data row1 col1\" >$3.02</td>\n",
       "                        <td id=\"T_06949_row1_col2\" class=\"data row1 col2\" >$1,967.64</td>\n",
       "                        <td id=\"T_06949_row1_col3\" class=\"data row1 col3\" >$4.07</td>\n",
       "            </tr>\n",
       "            <tr>\n",
       "                        <th id=\"T_06949_level0_row2\" class=\"row_heading level0 row2\" >Other / Non-Disclosed</th>\n",
       "                        <td id=\"T_06949_row2_col0\" class=\"data row2 col0\" >15</td>\n",
       "                        <td id=\"T_06949_row2_col1\" class=\"data row2 col1\" >$3.35</td>\n",
       "                        <td id=\"T_06949_row2_col2\" class=\"data row2 col2\" >$50.19</td>\n",
       "                        <td id=\"T_06949_row2_col3\" class=\"data row2 col3\" >$4.56</td>\n",
       "            </tr>\n",
       "    </tbody></table>"
      ],
      "text/plain": [
       "<pandas.io.formats.style.Styler at 0x143bbfb1f10>"
      ]
     },
     "execution_count": 27,
     "metadata": {},
     "output_type": "execute_result"
    }
   ],
   "source": [
    "# Finding purchase count\n",
    "purchase_count = gender[\"Purchase ID\"].count()\n",
    "\n",
    "# Finding avg. purchase price\n",
    "avg_price = gender[\"Price\"].mean()\n",
    "\n",
    "# Calculate Avg purchase total\n",
    "avg_purchase_total = gender[\"Price\"].sum()\n",
    "\n",
    "# Calculate Avg total per person\n",
    "Avg_Total_Purchase_per_Person = avg_purchase_total/gender_count\n",
    "\n",
    "\n",
    "#Create a summary data frame to hold the results\n",
    "gender_df = pd.DataFrame({\"Purchase Count\": purchase_count,\n",
    "                         \"Average Purchase Price\": avg_price,\n",
    "                         \"Average Purchase Value\": avg_purchase_total,\n",
    "                         \"Avg Purchase Total per Person\": Avg_Total_Purchase_per_Person})\n",
    "\n",
    "gender_df.index.name = \"Gender\"\n",
    "\n",
    "gender_df.style.format({\"Average Purchase Price\":\"${:,.2f}\",\n",
    "                        \"Average Purchase Value\":\"${:,.2f}\",\n",
    "                        \"Avg Purchase Total per Person\":\"${:,.2f}\"})\n"
   ]
  },
  {
   "cell_type": "code",
   "execution_count": 24,
   "id": "2dda1daf",
   "metadata": {},
   "outputs": [
    {
     "data": {
      "text/html": [
       "<style  type=\"text/css\" >\n",
       "</style><table id=\"T_d94db_\" ><thead>    <tr>        <th class=\"blank level0\" ></th>        <th class=\"col_heading level0 col0\" >Total Count</th>        <th class=\"col_heading level0 col1\" >Percentage of Players</th>    </tr></thead><tbody>\n",
       "                <tr>\n",
       "                        <th id=\"T_d94db_level0_row0\" class=\"row_heading level0 row0\" ><10</th>\n",
       "                        <td id=\"T_d94db_row0_col0\" class=\"data row0 col0\" >17</td>\n",
       "                        <td id=\"T_d94db_row0_col1\" class=\"data row0 col1\" >2.95%</td>\n",
       "            </tr>\n",
       "            <tr>\n",
       "                        <th id=\"T_d94db_level0_row1\" class=\"row_heading level0 row1\" >10-14</th>\n",
       "                        <td id=\"T_d94db_row1_col0\" class=\"data row1 col0\" >22</td>\n",
       "                        <td id=\"T_d94db_row1_col1\" class=\"data row1 col1\" >3.82%</td>\n",
       "            </tr>\n",
       "            <tr>\n",
       "                        <th id=\"T_d94db_level0_row2\" class=\"row_heading level0 row2\" >15-19</th>\n",
       "                        <td id=\"T_d94db_row2_col0\" class=\"data row2 col0\" >107</td>\n",
       "                        <td id=\"T_d94db_row2_col1\" class=\"data row2 col1\" >18.58%</td>\n",
       "            </tr>\n",
       "            <tr>\n",
       "                        <th id=\"T_d94db_level0_row3\" class=\"row_heading level0 row3\" >20-24</th>\n",
       "                        <td id=\"T_d94db_row3_col0\" class=\"data row3 col0\" >258</td>\n",
       "                        <td id=\"T_d94db_row3_col1\" class=\"data row3 col1\" >44.79%</td>\n",
       "            </tr>\n",
       "            <tr>\n",
       "                        <th id=\"T_d94db_level0_row4\" class=\"row_heading level0 row4\" >25-29</th>\n",
       "                        <td id=\"T_d94db_row4_col0\" class=\"data row4 col0\" >77</td>\n",
       "                        <td id=\"T_d94db_row4_col1\" class=\"data row4 col1\" >13.37%</td>\n",
       "            </tr>\n",
       "            <tr>\n",
       "                        <th id=\"T_d94db_level0_row5\" class=\"row_heading level0 row5\" >30-34</th>\n",
       "                        <td id=\"T_d94db_row5_col0\" class=\"data row5 col0\" >52</td>\n",
       "                        <td id=\"T_d94db_row5_col1\" class=\"data row5 col1\" >9.03%</td>\n",
       "            </tr>\n",
       "            <tr>\n",
       "                        <th id=\"T_d94db_level0_row6\" class=\"row_heading level0 row6\" >35-39</th>\n",
       "                        <td id=\"T_d94db_row6_col0\" class=\"data row6 col0\" >31</td>\n",
       "                        <td id=\"T_d94db_row6_col1\" class=\"data row6 col1\" >5.38%</td>\n",
       "            </tr>\n",
       "            <tr>\n",
       "                        <th id=\"T_d94db_level0_row7\" class=\"row_heading level0 row7\" >40+</th>\n",
       "                        <td id=\"T_d94db_row7_col0\" class=\"data row7 col0\" >12</td>\n",
       "                        <td id=\"T_d94db_row7_col1\" class=\"data row7 col1\" >2.08%</td>\n",
       "            </tr>\n",
       "    </tbody></table>"
      ],
      "text/plain": [
       "<pandas.io.formats.style.Styler at 0x143b8c63790>"
      ]
     },
     "execution_count": 24,
     "metadata": {},
     "output_type": "execute_result"
    }
   ],
   "source": [
    "#check max of age for demographics\n",
    "#purchase_data['Age'].max()\n",
    "\n",
    "# Age Demographics\n",
    "#Establish bins for ages\n",
    "age_bins = [0, 9, 14, 19, 24, 29, 34, 39, 50]\n",
    "group_names = [\"<10\", \"10-14\", \"15-19\", \"20-24\", \"25-29\", \"30-34\", \"35-39\", \"40+\"]\n",
    "\n",
    "purchase_data[\"Age Group\"] = pd.cut(purchase_data[\"Age\"],age_bins, labels=group_names)\n",
    "purchase_data\n",
    "\n",
    "# Calculate the numbers and percentages by age group\n",
    "age_grouped = purchase_data.groupby(\"Age Group\")\n",
    "\n",
    "total_by_age = age_grouped[\"SN\"].nunique()\n",
    "\n",
    "percentage_by_age = total_by_age/total_players * 100\n",
    "\n",
    "# Create a summary data frame to hold the results\n",
    "age_demographics = pd.DataFrame({\"Total Count\": total_by_age, \"Percentage of Players\": percentage_by_age})\n",
    "\n",
    "age_demographics.index.name = None\n",
    "\n",
    "age_demographics.style.format({\"Percentage of Players\" : \"{:,.2f}%\"})"
   ]
  },
  {
   "cell_type": "code",
   "execution_count": 20,
   "id": "a238f0fc",
   "metadata": {
    "scrolled": true
   },
   "outputs": [
    {
     "data": {
      "text/html": [
       "<style  type=\"text/css\" >\n",
       "</style><table id=\"T_390eb_\" ><thead>    <tr>        <th class=\"blank level0\" ></th>        <th class=\"col_heading level0 col0\" >Purchase Count</th>        <th class=\"col_heading level0 col1\" >Average Puhchase Price</th>        <th class=\"col_heading level0 col2\" >Total Purchase Value</th>        <th class=\"col_heading level0 col3\" >Avg Total Purchase per Person</th>    </tr></thead><tbody>\n",
       "                <tr>\n",
       "                        <th id=\"T_390eb_level0_row0\" class=\"row_heading level0 row0\" ><10</th>\n",
       "                        <td id=\"T_390eb_row0_col0\" class=\"data row0 col0\" >23</td>\n",
       "                        <td id=\"T_390eb_row0_col1\" class=\"data row0 col1\" >3.353478</td>\n",
       "                        <td id=\"T_390eb_row0_col2\" class=\"data row0 col2\" >$77.13</td>\n",
       "                        <td id=\"T_390eb_row0_col3\" class=\"data row0 col3\" >$4.54</td>\n",
       "            </tr>\n",
       "            <tr>\n",
       "                        <th id=\"T_390eb_level0_row1\" class=\"row_heading level0 row1\" >10-14</th>\n",
       "                        <td id=\"T_390eb_row1_col0\" class=\"data row1 col0\" >28</td>\n",
       "                        <td id=\"T_390eb_row1_col1\" class=\"data row1 col1\" >2.956429</td>\n",
       "                        <td id=\"T_390eb_row1_col2\" class=\"data row1 col2\" >$82.78</td>\n",
       "                        <td id=\"T_390eb_row1_col3\" class=\"data row1 col3\" >$3.76</td>\n",
       "            </tr>\n",
       "            <tr>\n",
       "                        <th id=\"T_390eb_level0_row2\" class=\"row_heading level0 row2\" >15-19</th>\n",
       "                        <td id=\"T_390eb_row2_col0\" class=\"data row2 col0\" >136</td>\n",
       "                        <td id=\"T_390eb_row2_col1\" class=\"data row2 col1\" >3.035956</td>\n",
       "                        <td id=\"T_390eb_row2_col2\" class=\"data row2 col2\" >$412.89</td>\n",
       "                        <td id=\"T_390eb_row2_col3\" class=\"data row2 col3\" >$3.86</td>\n",
       "            </tr>\n",
       "            <tr>\n",
       "                        <th id=\"T_390eb_level0_row3\" class=\"row_heading level0 row3\" >20-24</th>\n",
       "                        <td id=\"T_390eb_row3_col0\" class=\"data row3 col0\" >365</td>\n",
       "                        <td id=\"T_390eb_row3_col1\" class=\"data row3 col1\" >3.052219</td>\n",
       "                        <td id=\"T_390eb_row3_col2\" class=\"data row3 col2\" >$1,114.06</td>\n",
       "                        <td id=\"T_390eb_row3_col3\" class=\"data row3 col3\" >$4.32</td>\n",
       "            </tr>\n",
       "            <tr>\n",
       "                        <th id=\"T_390eb_level0_row4\" class=\"row_heading level0 row4\" >25-29</th>\n",
       "                        <td id=\"T_390eb_row4_col0\" class=\"data row4 col0\" >101</td>\n",
       "                        <td id=\"T_390eb_row4_col1\" class=\"data row4 col1\" >2.900990</td>\n",
       "                        <td id=\"T_390eb_row4_col2\" class=\"data row4 col2\" >$293.00</td>\n",
       "                        <td id=\"T_390eb_row4_col3\" class=\"data row4 col3\" >$3.81</td>\n",
       "            </tr>\n",
       "            <tr>\n",
       "                        <th id=\"T_390eb_level0_row5\" class=\"row_heading level0 row5\" >30-34</th>\n",
       "                        <td id=\"T_390eb_row5_col0\" class=\"data row5 col0\" >73</td>\n",
       "                        <td id=\"T_390eb_row5_col1\" class=\"data row5 col1\" >2.931507</td>\n",
       "                        <td id=\"T_390eb_row5_col2\" class=\"data row5 col2\" >$214.00</td>\n",
       "                        <td id=\"T_390eb_row5_col3\" class=\"data row5 col3\" >$4.12</td>\n",
       "            </tr>\n",
       "            <tr>\n",
       "                        <th id=\"T_390eb_level0_row6\" class=\"row_heading level0 row6\" >35-39</th>\n",
       "                        <td id=\"T_390eb_row6_col0\" class=\"data row6 col0\" >41</td>\n",
       "                        <td id=\"T_390eb_row6_col1\" class=\"data row6 col1\" >3.601707</td>\n",
       "                        <td id=\"T_390eb_row6_col2\" class=\"data row6 col2\" >$147.67</td>\n",
       "                        <td id=\"T_390eb_row6_col3\" class=\"data row6 col3\" >$4.76</td>\n",
       "            </tr>\n",
       "            <tr>\n",
       "                        <th id=\"T_390eb_level0_row7\" class=\"row_heading level0 row7\" >40+</th>\n",
       "                        <td id=\"T_390eb_row7_col0\" class=\"data row7 col0\" >13</td>\n",
       "                        <td id=\"T_390eb_row7_col1\" class=\"data row7 col1\" >2.941538</td>\n",
       "                        <td id=\"T_390eb_row7_col2\" class=\"data row7 col2\" >$38.24</td>\n",
       "                        <td id=\"T_390eb_row7_col3\" class=\"data row7 col3\" >$3.19</td>\n",
       "            </tr>\n",
       "    </tbody></table>"
      ],
      "text/plain": [
       "<pandas.io.formats.style.Styler at 0x143bbf9b220>"
      ]
     },
     "execution_count": 20,
     "metadata": {},
     "output_type": "execute_result"
    }
   ],
   "source": [
    "# Purchasing Analysis Age Demographics\n",
    "#Establish bins for ages\n",
    "age_bins = [0, 9, 14, 19, 24, 29, 34, 39, 50]\n",
    "group_names = [\"<10\", \"10-14\", \"15-19\", \"20-24\", \"25-29\", \"30-34\", \"35-39\", \"40+\"]\n",
    "\n",
    "purchase_count = age_grouped[\"Purchase ID\"].count()\n",
    "avg_purchase_price = age_grouped[\"Price\"].mean()\n",
    "total_purchase = age_grouped[\"Price\"].sum()\n",
    "avg_total_purchase_per_person = total_purchase/total_by_age\n",
    "\n",
    "age_df = pd.DataFrame({\"Purchase Count\": purchase_count,\n",
    "                      \"Average Puhchase Price\": avg_purchase_price,\n",
    "                      \"Total Purchase Value\": total_purchase,\n",
    "                      \"Avg Total Purchase per Person\": avg_total_purchase_per_person})\n",
    "\n",
    "age_df.index.name = None\n",
    "age_df.style.format({\"Average Purchase Price\":\"${:,.2f}\",\n",
    "                     \"Total Purchase Value\":\"${:,.2f}\",\n",
    "                     \"Avg Total Purchase per Person\":\"${:,.2f}\"})"
   ]
  },
  {
   "cell_type": "code",
   "execution_count": 22,
   "id": "eab39020",
   "metadata": {},
   "outputs": [
    {
     "data": {
      "text/html": [
       "<style  type=\"text/css\" >\n",
       "</style><table id=\"T_3542b_\" ><thead>    <tr>        <th class=\"blank level0\" ></th>        <th class=\"col_heading level0 col0\" >Purchase Count</th>        <th class=\"col_heading level0 col1\" >Average Purchase Price</th>        <th class=\"col_heading level0 col2\" >Total Purchase Value</th>    </tr>    <tr>        <th class=\"index_name level0\" >SN</th>        <th class=\"blank\" ></th>        <th class=\"blank\" ></th>        <th class=\"blank\" ></th>    </tr></thead><tbody>\n",
       "                <tr>\n",
       "                        <th id=\"T_3542b_level0_row0\" class=\"row_heading level0 row0\" >Lisosia93</th>\n",
       "                        <td id=\"T_3542b_row0_col0\" class=\"data row0 col0\" >5</td>\n",
       "                        <td id=\"T_3542b_row0_col1\" class=\"data row0 col1\" >$3.79</td>\n",
       "                        <td id=\"T_3542b_row0_col2\" class=\"data row0 col2\" >$18.96</td>\n",
       "            </tr>\n",
       "            <tr>\n",
       "                        <th id=\"T_3542b_level0_row1\" class=\"row_heading level0 row1\" >Idastidru52</th>\n",
       "                        <td id=\"T_3542b_row1_col0\" class=\"data row1 col0\" >4</td>\n",
       "                        <td id=\"T_3542b_row1_col1\" class=\"data row1 col1\" >$3.86</td>\n",
       "                        <td id=\"T_3542b_row1_col2\" class=\"data row1 col2\" >$15.45</td>\n",
       "            </tr>\n",
       "            <tr>\n",
       "                        <th id=\"T_3542b_level0_row2\" class=\"row_heading level0 row2\" >Chamjask73</th>\n",
       "                        <td id=\"T_3542b_row2_col0\" class=\"data row2 col0\" >3</td>\n",
       "                        <td id=\"T_3542b_row2_col1\" class=\"data row2 col1\" >$4.61</td>\n",
       "                        <td id=\"T_3542b_row2_col2\" class=\"data row2 col2\" >$13.83</td>\n",
       "            </tr>\n",
       "            <tr>\n",
       "                        <th id=\"T_3542b_level0_row3\" class=\"row_heading level0 row3\" >Iral74</th>\n",
       "                        <td id=\"T_3542b_row3_col0\" class=\"data row3 col0\" >4</td>\n",
       "                        <td id=\"T_3542b_row3_col1\" class=\"data row3 col1\" >$3.40</td>\n",
       "                        <td id=\"T_3542b_row3_col2\" class=\"data row3 col2\" >$13.62</td>\n",
       "            </tr>\n",
       "            <tr>\n",
       "                        <th id=\"T_3542b_level0_row4\" class=\"row_heading level0 row4\" >Iskadarya95</th>\n",
       "                        <td id=\"T_3542b_row4_col0\" class=\"data row4 col0\" >3</td>\n",
       "                        <td id=\"T_3542b_row4_col1\" class=\"data row4 col1\" >$4.37</td>\n",
       "                        <td id=\"T_3542b_row4_col2\" class=\"data row4 col2\" >$13.10</td>\n",
       "            </tr>\n",
       "    </tbody></table>"
      ],
      "text/plain": [
       "<pandas.io.formats.style.Styler at 0x143b8c693a0>"
      ]
     },
     "execution_count": 22,
     "metadata": {},
     "output_type": "execute_result"
    }
   ],
   "source": [
    "# Top Spenders\n",
    "\n",
    "spenders = purchase_data.groupby(\"SN\")\n",
    "purchase_count_ts = spenders[\"Purchase ID\"].count()\n",
    "avg_purchase_price_ts = spenders[\"Price\"].mean()\n",
    "total_purchase_value_ts = spenders[\"Price\"].sum()\n",
    "\n",
    "# Create a summary data frame to hold results\n",
    "top_spenders = pd.DataFrame({\"Purchase Count\": purchase_count_ts,\n",
    "                            \"Average Purchase Price\": avg_purchase_price_ts,\n",
    "                            \"Total Purchase Value\": total_purchase_value_ts})\n",
    "\n",
    "top_spenders_formatted = top_spenders.sort_values([\"Total Purchase Value\"], ascending=False).head()\n",
    "\n",
    "top_spenders_formatted.style.format({\"Average Purchase Price\":\"${:,.2f}\",\n",
    "                                    \"Total Purchase Value\":\"${:,.2f}\"})"
   ]
  },
  {
   "cell_type": "code",
   "execution_count": null,
   "id": "a41b5725",
   "metadata": {},
   "outputs": [],
   "source": []
  },
  {
   "cell_type": "code",
   "execution_count": null,
   "id": "289b134f",
   "metadata": {},
   "outputs": [],
   "source": []
  },
  {
   "cell_type": "code",
   "execution_count": null,
   "id": "9d39fba2",
   "metadata": {},
   "outputs": [],
   "source": []
  }
 ],
 "metadata": {
  "kernelspec": {
   "display_name": "Python 3",
   "language": "python",
   "name": "python3"
  },
  "language_info": {
   "codemirror_mode": {
    "name": "ipython",
    "version": 3
   },
   "file_extension": ".py",
   "mimetype": "text/x-python",
   "name": "python",
   "nbconvert_exporter": "python",
   "pygments_lexer": "ipython3",
   "version": "3.8.8"
  }
 },
 "nbformat": 4,
 "nbformat_minor": 5
}
